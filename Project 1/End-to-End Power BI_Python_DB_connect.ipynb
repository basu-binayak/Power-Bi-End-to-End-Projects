{
 "cells": [
  {
   "cell_type": "code",
   "execution_count": 9,
   "id": "a8087470",
   "metadata": {},
   "outputs": [
    {
     "name": "stdout",
     "output_type": "stream",
     "text": [
      "Table created successfully in PostgreSQL \n",
      "PostgreSQL connection is closed\n"
     ]
    }
   ],
   "source": [
    "import psycopg2\n",
    "try:\n",
    "    #connect to the database \n",
    "    connection = psycopg2.connect(database = 'retail_db',\n",
    "                                 user = \"postgres\",\n",
    "                                 password = \"***********\", #write the password\n",
    "                                 host = \"localhost\",\n",
    "                                 port = \"****\") #write the port number\n",
    "    \n",
    "    # create a cursor\n",
    "    cursor = connection.cursor()\n",
    "    \n",
    "    # SQL query to create table\n",
    "    create_table = '''create table Product\n",
    "    (ProductID int, \n",
    "    SubCategoryKey int,\n",
    "    Color text,\n",
    "    ProductName text,\n",
    "    RetailPrice numeric(4,2),\n",
    "    StandardCost numeric(4,2))'''\n",
    "    \n",
    "    # execute the command to create a table\n",
    "    cursor.execute(create_table)\n",
    "    connection.commit()\n",
    "    print(\"Table created successfully in PostgreSQL \")\n",
    "    \n",
    "except (Exception, psycopg2.DatabaseError) as error:\n",
    "    print(\"Error while connecting to PostgreSQL\", error)\n",
    "finally:\n",
    "    if connection:\n",
    "        cursor.close()\n",
    "        connection.close()\n",
    "        print(\"PostgreSQL connection is closed\")"
   ]
  },
  {
   "cell_type": "code",
   "execution_count": 10,
   "id": "78639997",
   "metadata": {},
   "outputs": [],
   "source": [
    "def insertrecord(a,b,c,d,e,f):\n",
    "    connection = None\n",
    "    try:\n",
    "        connection = psycopg2.connect(database = 'retail_db',\n",
    "                                      user = \"postgres\",\n",
    "                                      password = \"**********\",# write your password\n",
    "                                      host = \"localhost\",\n",
    "                                      port = \"****\") # get the port number\n",
    "        cursor= connection.cursor()\n",
    "        cursor.execute('''Insert into Product values(%s,%s,%s,%s,%s,%s)''',(a,b,c,d,e,f))\n",
    "        connection.commit()\n",
    "        print('Record is inserted')\n",
    "    except(Exception, psycopg2.DatabaseError) as error:\n",
    "        print(error)\n",
    "    finally:\n",
    "        if connection is not None:\n",
    "            cursor.close()\n",
    "            connection.close()\n",
    "            print(\"Connection is closed\")"
   ]
  },
  {
   "cell_type": "code",
   "execution_count": 21,
   "id": "b8478146",
   "metadata": {},
   "outputs": [
    {
     "name": "stdout",
     "output_type": "stream",
     "text": [
      "Record is inserted\n",
      "Connection is closed\n",
      "Record is inserted\n",
      "Connection is closed\n",
      "Record is inserted\n",
      "Connection is closed\n",
      "Record is inserted\n",
      "Connection is closed\n",
      "Record is inserted\n",
      "Connection is closed\n",
      "Record is inserted\n",
      "Connection is closed\n",
      "Record is inserted\n",
      "Connection is closed\n",
      "Record is inserted\n",
      "Connection is closed\n",
      "Record is inserted\n",
      "Connection is closed\n",
      "Record is inserted\n",
      "Connection is closed\n",
      "Record is inserted\n",
      "Connection is closed\n"
     ]
    }
   ],
   "source": [
    "from decimal import Decimal\n",
    "f = open(\"D:\\Power BI\\End to End\\Dimensions\\Product.csv\",'r')\n",
    "f.readline()\n",
    "rows = f.readlines()\n",
    "for row in rows:\n",
    "    row = row.strip('\\n').split(',')\n",
    "    productid = int(row[0])\n",
    "    subcategorykey = int(row[1])\n",
    "    color = row[2]\n",
    "    productname = row[3]\n",
    "    retailprice = Decimal(row[4])\n",
    "    standardcost = Decimal(row[5])\n",
    "    insertrecord(productid,subcategorykey,color,productname,retailprice,standardcost)\n",
    "f.close()"
   ]
  }
 ],
 "metadata": {
  "kernelspec": {
   "display_name": "Python 3 (ipykernel)",
   "language": "python",
   "name": "python3"
  },
  "language_info": {
   "codemirror_mode": {
    "name": "ipython",
    "version": 3
   },
   "file_extension": ".py",
   "mimetype": "text/x-python",
   "name": "python",
   "nbconvert_exporter": "python",
   "pygments_lexer": "ipython3",
   "version": "3.9.12"
  }
 },
 "nbformat": 4,
 "nbformat_minor": 5
}
